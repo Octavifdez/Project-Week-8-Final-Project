{
 "cells": [
  {
   "cell_type": "code",
   "execution_count": 1,
   "metadata": {},
   "outputs": [],
   "source": [
    "import pandas as pd, numpy as np\n",
    "import matplotlib.pyplot as plt"
   ]
  },
  {
   "cell_type": "markdown",
   "metadata": {},
   "source": [
    "### Function to clean"
   ]
  },
  {
   "cell_type": "code",
   "execution_count": null,
   "metadata": {},
   "outputs": [],
   "source": [
    "def cleaner(data, lower, upper, roll):\n",
    "    new_data = roll_data(small_noise(norm_data(cut_data(data)), lower, upper), roll)\n",
    "    \n",
    "    return new_data"
   ]
  },
  {
   "cell_type": "markdown",
   "metadata": {},
   "source": [
    "### Defining a function to get only the interesting data:"
   ]
  },
  {
   "cell_type": "code",
   "execution_count": 1,
   "metadata": {},
   "outputs": [],
   "source": [
    "def cut_data(data):\n",
    "    new_data = data[~data.isna()][2:].astype('int64')\n",
    "    return new_data\n",
    "\n",
    "# test = cut_data(data['R.9'])\n",
    "# test.max()"
   ]
  },
  {
   "cell_type": "markdown",
   "metadata": {},
   "source": [
    "### Defining a function to set the mean to 0"
   ]
  },
  {
   "cell_type": "code",
   "execution_count": 2,
   "metadata": {},
   "outputs": [],
   "source": [
    "def norm_data(data):\n",
    "    data_mean = int(data.mean())\n",
    "    new_data = []\n",
    "    for i in range(len(data)):\n",
    "        new_point = data.iloc[i] - data_mean\n",
    "        new_data.append(new_point)\n",
    "    return new_data\n",
    "    \n",
    "# data_norm = norm(data_str)\n",
    "# max(data_norm)"
   ]
  },
  {
   "cell_type": "markdown",
   "metadata": {},
   "source": [
    "### Defining a function to remove small noise"
   ]
  },
  {
   "cell_type": "code",
   "execution_count": 3,
   "metadata": {},
   "outputs": [],
   "source": [
    "def small_noise(data, lower, upper):\n",
    "    new_data = [x if (x>upper or x<lower) else 0 for x in data]\n",
    "    return pd.DataFrame(new_data)\n",
    "\n",
    "# data_non_noise = small_noise(data_norm, -10, 20)\n",
    "# data_non_noise.max()"
   ]
  },
  {
   "cell_type": "markdown",
   "metadata": {},
   "source": [
    "### Defining a function to smooth the points by rolling the mean"
   ]
  },
  {
   "cell_type": "code",
   "execution_count": 5,
   "metadata": {},
   "outputs": [],
   "source": [
    "def roll_data(data, roller):\n",
    "    new_data = data.rolling(window = roller).sum()\n",
    "    return pd.DataFrame(new_data)\n",
    "\n",
    "# roll = 2\n",
    "# data_rolled = rolling(data_non_noise, roll)\n",
    "# data_rolled"
   ]
  },
  {
   "cell_type": "code",
   "execution_count": 8,
   "metadata": {},
   "outputs": [],
   "source": [
    "def graphing(data_raw, lower, upper, roll):\n",
    "    number_of_graphs = int(input('How many graphs do you wish to see? '))\n",
    "    fig, ax = plt.subplots(number_of_graphs, 2, figsize= (10,number_of_graphs*4),gridspec_kw={'width_ratios': [2, 1]})\n",
    "\n",
    "    for i in range(number_of_graphs):\n",
    "        viewing = cut_data(data.iloc[:,i+80])\n",
    "        test = rolling(small_noise(norm(viewing), lower, upper), roll)\n",
    "        \n",
    "        test_max = viewing[viewing == viewing.max()].index[0]\n",
    "        \n",
    "        ax[i,0].plot(viewing, color='orange')\n",
    "        ax[i,1].plot(test)\n",
    "        ax[i,1].set_xlim(test_max - 20, test_max + 50)\n",
    "    "
   ]
  },
  {
   "cell_type": "code",
   "execution_count": 313,
   "metadata": {},
   "outputs": [
    {
     "data": {
      "text/plain": [
       "(1884, 1954)"
      ]
     },
     "execution_count": 313,
     "metadata": {},
     "output_type": "execute_result"
    },
    {
     "data": {
      "image/png": "[encoded data removed]",
      "text/plain": [
       "<Figure size 1152x288 with 2 Axes>"
      ]
     },
     "metadata": {
      "needs_background": "light"
     },
     "output_type": "display_data"
    }
   ],
   "source": [
    "fig, ax = plt.subplots(1, 2, figsize= (16, 4))\n",
    "lower, upper = -10, 20\n",
    "smooth = 3\n",
    "\n",
    "viewing = cut_data(data.iloc[:,55])\n",
    "test_max = viewing[viewing == viewing.max()].index[0]\n",
    "\n",
    "test = rolling(small_noise(norm(viewing), lower, upper), smooth)\n",
    "ax[0].plot(viewing, color='orange')\n",
    "ax[1].plot(test)\n",
    "ax[1].set_xlim(test_max - 20, test_max + 50)"
   ]
  },
  {
   "cell_type": "markdown",
   "metadata": {},
   "source": [
    "### Function to find the top peak of the data"
   ]
  },
  {
   "cell_type": "code",
   "execution_count": 309,
   "metadata": {},
   "outputs": [
    {
     "data": {
      "text/plain": [
       "array([ nan,   0.,  35., -35.,  30.,  38.,  37.,   9.,  12.,  28.,  11.,\n",
       "         4.,  -2.,  -6., -69., -67., -55., -21., -20.,  21.,  20., -12.,\n",
       "       -15., -18.,  -7.,   5.,  19.,  15.,  13., -19., -11.])"
      ]
     },
     "execution_count": 309,
     "metadata": {},
     "output_type": "execute_result"
    }
   ],
   "source": [
    "def peak(data):\n",
    "    new_data = []\n",
    "    for i in range(len(data)-1):\n",
    "        new_data.append(data.iloc[i+1]-data.iloc[i])\n",
    "    return pd.DataFrame(new_data)\n",
    "\n",
    "test_peak = peak(test)\n",
    "test_peak.iloc[:,0].unique()"
   ]
  },
  {
   "cell_type": "code",
   "execution_count": 337,
   "metadata": {},
   "outputs": [
    {
     "name": "stdout",
     "output_type": "stream",
     "text": [
      "0\n",
      "0    125.0\n",
      "dtype: float64\n"
     ]
    },
    {
     "data": {
      "text/plain": [
       "[<matplotlib.lines.Line2D at 0x2851f2e7048>]"
      ]
     },
     "execution_count": 337,
     "metadata": {},
     "output_type": "execute_result"
    },
    {
     "data": {
      "image/png": "[encoded data removed]",
      "text/plain": [
       "<Figure size 432x288 with 1 Axes>"
      ]
     },
     "metadata": {
      "needs_background": "light"
     },
     "output_type": "display_data"
    }
   ],
   "source": [
    "lower, upper = -10, 20\n",
    "smooth = 3\n",
    "\n",
    "clean_data = pd.DataFrame()\n",
    "\n",
    "# for i in range(number_of_graphs):\n",
    "# viewing = cut_data(data.iloc[:,55])\n",
    "# test_max = viewing[viewing == viewing.max()].index[0]\n",
    "test = rolling(small_noise(norm(cut_data(data.iloc[:,1])), lower, upper), smooth)\n",
    "\n",
    "pos_max = test[test == test.max()].index[0]\n",
    "\n",
    "temp_list = test.iloc[pos_max - 20: pos_max + 50]\n",
    "print(pos_max)\n",
    "print(test.max())\n",
    "len(temp_list)\n",
    "\n",
    "# plt.plot(test)"
   ]
  }
 ],
 "metadata": {
  "kernelspec": {
   "display_name": "Python 3",
   "language": "python",
   "name": "python3"
  },
  "language_info": {
   "codemirror_mode": {
    "name": "ipython",
    "version": 3
   },
   "file_extension": ".py",
   "mimetype": "text/x-python",
   "name": "python",
   "nbconvert_exporter": "python",
   "pygments_lexer": "ipython3",
   "version": "3.8.0-final"
  }
 },
 "nbformat": 4,
 "nbformat_minor": 2
}